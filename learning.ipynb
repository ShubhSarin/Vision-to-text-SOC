{
 "cells": [
  {
   "cell_type": "code",
   "execution_count": 1,
   "id": "f8a51f67",
   "metadata": {},
   "outputs": [],
   "source": [
    "import torch\n",
    "from torch import nn\n",
    "from torch.utils.data import DataLoader\n",
    "from torchvision import datasets\n",
    "from torchvision.transforms import ToTensor"
   ]
  },
  {
   "cell_type": "code",
   "execution_count": 2,
   "id": "a7d711af",
   "metadata": {},
   "outputs": [],
   "source": [
    "training_data= datasets.FashionMNIST(root=\"data\", train=True, download=True, transform=ToTensor())\n",
    "test_data= datasets.FashionMNIST(root=\"data\", train=False, download=True, transform=ToTensor())"
   ]
  },
  {
   "cell_type": "code",
   "execution_count": 3,
   "id": "773af0a9",
   "metadata": {},
   "outputs": [
    {
     "name": "stdout",
     "output_type": "stream",
     "text": [
      "Shape of X[N, C, H, W]: torch.Size([64, 1, 28, 28])\n",
      "Shape of y: torch.int64\n"
     ]
    }
   ],
   "source": [
    "batch_size=64\n",
    "\n",
    "train_dataloader = DataLoader(training_data, batch_size=batch_size)\n",
    "test_dataloader = DataLoader(test_data, batch_size=batch_size)\n",
    "\n",
    "for X, y in test_dataloader:\n",
    "    print(f\"Shape of X[N, C, H, W]: {X.shape}\")\n",
    "    print(f\"Shape of y: {y.dtype}\")\n",
    "    break"
   ]
  },
  {
   "cell_type": "code",
   "execution_count": 4,
   "id": "dd9e19f8",
   "metadata": {},
   "outputs": [
    {
     "name": "stdout",
     "output_type": "stream",
     "text": [
      "cuda\n",
      "NeuralNetwork(\n",
      "  (flatten): Flatten(start_dim=1, end_dim=-1)\n",
      "  (linear_relu_stack): Sequential(\n",
      "    (0): Linear(in_features=784, out_features=512, bias=True)\n",
      "    (1): ReLU()\n",
      "    (2): Linear(in_features=512, out_features=512, bias=True)\n",
      "    (3): ReLU()\n",
      "    (4): Linear(in_features=512, out_features=10, bias=True)\n",
      "  )\n",
      ")\n"
     ]
    }
   ],
   "source": [
    "device=torch.accelerator.current_accelerator().type if torch.accelerator.is_available() else \"cpu\"\n",
    "\n",
    "print(device)\n",
    "class NeuralNetwork(nn.Module):\n",
    "    def __init__(self):\n",
    "        super().__init__()\n",
    "        self.flatten = nn.Flatten()\n",
    "        self.linear_relu_stack = nn.Sequential(\n",
    "            nn.Linear(28*28, 512),\n",
    "            nn.ReLU(),\n",
    "            nn.Linear(512, 512),\n",
    "            nn.ReLU(),\n",
    "            nn.Linear(512, 10)\n",
    "        )\n",
    "    def forward(self, x):\n",
    "        x=self.flatten(x)\n",
    "        logits=self.linear_relu_stack(x)\n",
    "        return logits\n",
    "model = NeuralNetwork().to(device)\n",
    "print(model)"
   ]
  },
  {
   "cell_type": "code",
   "execution_count": 5,
   "id": "dd013462",
   "metadata": {},
   "outputs": [],
   "source": [
    "loss_fn = nn.CrossEntropyLoss()\n",
    "optimizer=torch.optim.SGD(model.parameters(), lr=1e-3)"
   ]
  },
  {
   "cell_type": "code",
   "execution_count": 6,
   "id": "529a4b41",
   "metadata": {},
   "outputs": [],
   "source": [
    "def train(dataloader, model, loss_fn, optimizer):\n",
    "    size=len(dataloader.dataset)\n",
    "    model.train()\n",
    "    for batch, (X, y) in enumerate(dataloader):\n",
    "        X, y = X.to(device), y.to(device)\n",
    "        \n",
    "        pred = model(X)\n",
    "        loss = loss_fn(pred, y)\n",
    "        \n",
    "        loss.backward()\n",
    "        optimizer.step()\n",
    "        optimizer.zero_grad()\n",
    "        \n",
    "        if batch%100 == 0:\n",
    "            loss, current = loss.item(), (batch+1)*len(X)\n",
    "            print(f\"loss {loss:>7f} [{current:>5d} / {size:>5d}]\")"
   ]
  },
  {
   "cell_type": "code",
   "execution_count": null,
   "id": "bd15e1cb",
   "metadata": {},
   "outputs": [],
   "source": [
    "def test(dataloader, model, loss_fn):\n",
    "    size=len(dataloader.dataset)\n",
    "    num_batches=len(dataloader)\n",
    "    model.eval()\n",
    "    test_loss, correct = 0, 0\n",
    "    with torch.no_grad():\n",
    "        for X, y in dataloader:\n",
    "            X, y = X.to(device), y.to(device)\n",
    "            pred=model(X)\n",
    "            test_loss += loss_fn(pred, y).item()\n",
    "            correct += (pred.argmax(1)==y).type(torch.float).sum().item()\n",
    "        test_loss/=num_batches\n",
    "        correct/=size\n",
    "        print(f\"Test Error: \\n Accuracy: {(100*correct):>0.1f}%, Avg loss: {test_loss:>8f} \\n\")"
   ]
  },
  {
   "cell_type": "code",
   "execution_count": 8,
   "id": "fdb2a33a",
   "metadata": {},
   "outputs": [
    {
     "name": "stdout",
     "output_type": "stream",
     "text": [
      "Epoch 1\n",
      "------------------\n",
      "loss 2.297517 [   64 / 60000]\n",
      "loss 2.289935 [ 6464 / 60000]\n",
      "loss 2.269002 [12864 / 60000]\n",
      "loss 2.271387 [19264 / 60000]\n",
      "loss 2.247802 [25664 / 60000]\n",
      "loss 2.201787 [32064 / 60000]\n",
      "loss 2.230176 [38464 / 60000]\n",
      "loss 2.177526 [44864 / 60000]\n",
      "loss 2.184958 [51264 / 60000]\n",
      "loss 2.151972 [57664 / 60000]\n",
      "Test Error: \n",
      " Accuracy: 35.9%, Avg loss: 2.146822 \n",
      "\n",
      "Epoch 2\n",
      "------------------\n",
      "loss 2.150242 [   64 / 60000]\n",
      "loss 2.139421 [ 6464 / 60000]\n",
      "loss 2.078274 [12864 / 60000]\n",
      "loss 2.108837 [19264 / 60000]\n",
      "loss 2.042840 [25664 / 60000]\n",
      "loss 1.973810 [32064 / 60000]\n",
      "loss 2.021219 [38464 / 60000]\n",
      "loss 1.921399 [44864 / 60000]\n",
      "loss 1.934627 [51264 / 60000]\n",
      "loss 1.869834 [57664 / 60000]\n",
      "Test Error: \n",
      " Accuracy: 50.1%, Avg loss: 1.862239 \n",
      "\n",
      "Epoch 3\n",
      "------------------\n",
      "loss 1.886933 [   64 / 60000]\n",
      "loss 1.852815 [ 6464 / 60000]\n",
      "loss 1.737934 [12864 / 60000]\n",
      "loss 1.799775 [19264 / 60000]\n",
      "loss 1.674634 [25664 / 60000]\n",
      "loss 1.631115 [32064 / 60000]\n",
      "loss 1.670455 [38464 / 60000]\n",
      "loss 1.563450 [44864 / 60000]\n",
      "loss 1.590086 [51264 / 60000]\n",
      "loss 1.494213 [57664 / 60000]\n",
      "Test Error: \n",
      " Accuracy: 60.5%, Avg loss: 1.511628 \n",
      "\n",
      "Epoch 4\n",
      "------------------\n",
      "loss 1.568377 [   64 / 60000]\n",
      "loss 1.535033 [ 6464 / 60000]\n",
      "loss 1.398137 [12864 / 60000]\n",
      "loss 1.480424 [19264 / 60000]\n",
      "loss 1.355009 [25664 / 60000]\n",
      "loss 1.352955 [32064 / 60000]\n",
      "loss 1.372147 [38464 / 60000]\n",
      "loss 1.297764 [44864 / 60000]\n",
      "loss 1.328117 [51264 / 60000]\n",
      "loss 1.230360 [57664 / 60000]\n",
      "Test Error: \n",
      " Accuracy: 63.5%, Avg loss: 1.260176 \n",
      "\n",
      "Epoch 5\n",
      "------------------\n",
      "loss 1.327303 [   64 / 60000]\n",
      "loss 1.308837 [ 6464 / 60000]\n",
      "loss 1.158216 [12864 / 60000]\n",
      "loss 1.266669 [19264 / 60000]\n",
      "loss 1.138379 [25664 / 60000]\n",
      "loss 1.159796 [32064 / 60000]\n",
      "loss 1.180995 [38464 / 60000]\n",
      "loss 1.122221 [44864 / 60000]\n",
      "loss 1.158396 [51264 / 60000]\n",
      "loss 1.068842 [57664 / 60000]\n",
      "Test Error: \n",
      " Accuracy: 64.8%, Avg loss: 1.095878 \n",
      "\n",
      "Done!\n"
     ]
    }
   ],
   "source": [
    "epochs = 5\n",
    "for t in range(epochs):\n",
    "    print(f\"Epoch {t+1}\\n------------------\")\n",
    "    train(train_dataloader, model, loss_fn, optimizer)\n",
    "    test(test_dataloader, model, loss_fn)\n",
    "print(\"Done!\")"
   ]
  },
  {
   "cell_type": "code",
   "execution_count": 9,
   "id": "6d33f747",
   "metadata": {},
   "outputs": [
    {
     "name": "stdout",
     "output_type": "stream",
     "text": [
      "Saved PyTorch Model state to model.pth\n"
     ]
    }
   ],
   "source": [
    "torch.save(model.state_dict(), \"model.pth\")\n",
    "print(\"Saved PyTorch Model state to model.pth\")"
   ]
  },
  {
   "cell_type": "code",
   "execution_count": 10,
   "id": "3d11591f",
   "metadata": {},
   "outputs": [
    {
     "data": {
      "text/plain": [
       "<All keys matched successfully>"
      ]
     },
     "execution_count": 10,
     "metadata": {},
     "output_type": "execute_result"
    }
   ],
   "source": [
    "model = NeuralNetwork().to(device)\n",
    "model.load_state_dict(torch.load(\"model.pth\", weights_only=True))"
   ]
  },
  {
   "cell_type": "code",
   "execution_count": 11,
   "id": "3aca0980",
   "metadata": {},
   "outputs": [
    {
     "name": "stdout",
     "output_type": "stream",
     "text": [
      "Predicted: \"Ankle boot\", Actual: \"Ankle boot\"\n"
     ]
    }
   ],
   "source": [
    "classes = [\n",
    "    \"T-shirt/top\",\n",
    "    \"Trouser\",\n",
    "    \"Pullover\",\n",
    "    \"Dress\",\n",
    "    \"Coat\",\n",
    "    \"Sandal\",\n",
    "    \"Shirt\",\n",
    "    \"Sneaker\",\n",
    "    \"Bag\",\n",
    "    \"Ankle boot\",\n",
    "]\n",
    "\n",
    "model.eval()\n",
    "x, y = test_data[0][0], test_data[0][1]\n",
    "with torch.no_grad():\n",
    "    x = x.to(device)\n",
    "    pred = model(x)\n",
    "    predicted, actual = classes[pred[0].argmax(0)], classes[y]\n",
    "    print(f'Predicted: \"{predicted}\", Actual: \"{actual}\"')"
   ]
  }
 ],
 "metadata": {
  "kernelspec": {
   "display_name": "Python 3",
   "language": "python",
   "name": "python3"
  },
  "language_info": {
   "codemirror_mode": {
    "name": "ipython",
    "version": 3
   },
   "file_extension": ".py",
   "mimetype": "text/x-python",
   "name": "python",
   "nbconvert_exporter": "python",
   "pygments_lexer": "ipython3",
   "version": "3.12.10"
  }
 },
 "nbformat": 4,
 "nbformat_minor": 5
}
