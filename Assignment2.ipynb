{
 "cells": [
  {
   "cell_type": "code",
   "execution_count": 1,
   "id": "d814c5a4",
   "metadata": {},
   "outputs": [],
   "source": [
    "import torch\n",
    "from torch import nn\n",
    "from torch.utils.data import DataLoader\n",
    "from torchvision import datasets\n",
    "from torchvision.transforms import ToTensor\n",
    "from torch.utils.data import random_split\n",
    "import numpy as np"
   ]
  },
  {
   "cell_type": "code",
   "execution_count": 2,
   "id": "e5c14623",
   "metadata": {},
   "outputs": [],
   "source": [
    "train_data = datasets.MNIST(root=\"MNIST\", train=True, download=True, transform=ToTensor())\n",
    "test_data = datasets.MNIST(root=\"MNIST\", train=False, download=True, transform=ToTensor())"
   ]
  },
  {
   "cell_type": "code",
   "execution_count": 3,
   "id": "60b9f2cd",
   "metadata": {},
   "outputs": [],
   "source": [
    "train_size = int(0.8*len(train_data))\n",
    "val_size = len(train_data) - train_size\n",
    "train_dataset, val_dataset = random_split(train_data, [train_size, val_size])\n",
    "\n",
    "batch_size=64\n",
    "train_dataloader = DataLoader(train_dataset, batch_size)\n",
    "val_dataloader = DataLoader(val_dataset, batch_size)\n",
    "test_dataloader = DataLoader(test_data, batch_size)"
   ]
  },
  {
   "cell_type": "code",
   "execution_count": 4,
   "id": "475ee771",
   "metadata": {},
   "outputs": [
    {
     "name": "stdout",
     "output_type": "stream",
     "text": [
      "cuda\n",
      "NeuralNetwork(\n",
      "  (flatten): Flatten(start_dim=1, end_dim=-1)\n",
      "  (linear_relu_stack): Sequential(\n",
      "    (0): Linear(in_features=784, out_features=1024, bias=True)\n",
      "    (1): ReLU()\n",
      "    (2): Linear(in_features=1024, out_features=1024, bias=True)\n",
      "    (3): ReLU()\n",
      "    (4): Linear(in_features=1024, out_features=512, bias=True)\n",
      "    (5): ReLU()\n",
      "    (6): Linear(in_features=512, out_features=10, bias=True)\n",
      "  )\n",
      ")\n"
     ]
    }
   ],
   "source": [
    "device = torch.accelerator.current_accelerator().type if torch.accelerator.is_available() else \"cpu\"\n",
    "\n",
    "print(device)\n",
    "class NeuralNetwork(nn.Module):\n",
    "    def __init__(self):\n",
    "        super().__init__()\n",
    "        self.flatten = nn.Flatten()\n",
    "        self.linear_relu_stack = nn.Sequential(\n",
    "            nn.Linear(28*28, 1024),\n",
    "            nn.ReLU(),\n",
    "            nn.Linear(1024, 1024),\n",
    "            nn.ReLU(),\n",
    "            nn.Linear(1024, 512),\n",
    "            nn.ReLU(),\n",
    "            nn.Linear(512, 10),\n",
    "        )\n",
    "    def forward(self, x):\n",
    "        x = self.flatten(x)\n",
    "        logits = self.linear_relu_stack(x)\n",
    "        return logits\n",
    "model=NeuralNetwork().to(device)\n",
    "print(model)"
   ]
  },
  {
   "cell_type": "code",
   "execution_count": 5,
   "id": "e687f05a",
   "metadata": {},
   "outputs": [],
   "source": [
    "loss_fn = nn.CrossEntropyLoss()\n",
    "optimizer = torch.optim.SGD(model.parameters(), lr=0.007)"
   ]
  },
  {
   "cell_type": "code",
   "execution_count": 6,
   "id": "9fa71fb5",
   "metadata": {},
   "outputs": [],
   "source": [
    "def train(dataloader, model, loss_fn, optimizer):\n",
    "    size=len(dataloader.dataset)\n",
    "    model.train()\n",
    "    for batch, (X, y) in enumerate(dataloader):\n",
    "        X, y = X.to(device), y.to(device)\n",
    "        \n",
    "        pred=model(X)\n",
    "        loss=loss_fn(pred, y)\n",
    "        \n",
    "        loss.backward()\n",
    "        optimizer.step()\n",
    "        optimizer.zero_grad()\n",
    "        \n",
    "        if batch % 100 == 0:\n",
    "            loss, current = loss.item(), (batch+1)*len(X)\n",
    "            print(f\"Loss: {loss:>7f} [{current:>5d} / {size:>5d}]\")"
   ]
  },
  {
   "cell_type": "code",
   "execution_count": 7,
   "id": "2360a431",
   "metadata": {},
   "outputs": [],
   "source": [
    "def test(dataloader, model, loss_fn):\n",
    "    size=len(dataloader.dataset)\n",
    "    num_batches=len(dataloader)\n",
    "    model.eval()\n",
    "    test_loss, correct = 0, 0\n",
    "    with torch.no_grad():\n",
    "        for X, y in dataloader:\n",
    "            X, y = X.to(device), y.to(device)\n",
    "            pred = model(X)\n",
    "            test_loss += loss_fn(pred, y).item()\n",
    "            correct += (pred.argmax(1) == y).type(torch.float).sum().item()\n",
    "        test_loss/=num_batches\n",
    "        correct/=size\n",
    "        print(f\"Test Error: \\n Accuracy: {(100*correct):>0.1f}%, Avg loss: {test_loss:>8f} \\n\")"
   ]
  },
  {
   "cell_type": "markdown",
   "id": "d86b70b7",
   "metadata": {},
   "source": [
    "# Prediction before training"
   ]
  },
  {
   "cell_type": "code",
   "execution_count": 8,
   "id": "4b9ae809",
   "metadata": {},
   "outputs": [
    {
     "data": {
      "image/png": "[encoded data removed]",
      "text/plain": [
       "<Figure size 640x480 with 5 Axes>"
      ]
     },
     "metadata": {},
     "output_type": "display_data"
    }
   ],
   "source": [
    "import matplotlib.pyplot as plt\n",
    "\n",
    "def viz_predictions(model, dataset, num_samples=5):\n",
    "    fig, axes = plt.subplots(1, num_samples)\n",
    "    model.eval()\n",
    "    \n",
    "    with torch.no_grad():\n",
    "        for i in range(num_samples):\n",
    "            img, label = dataset[i]\n",
    "            X = img.unsqueeze(0).to(device)\n",
    "            pred = model(X)\n",
    "            predicted = pred.argmax(1)\n",
    "            axes[i].imshow(img.squeeze(), cmap='gray')\n",
    "            axes[i].set_title(f'Pred: {predicted.item()}\\nTrue: {label}')\n",
    "            axes[i].axis('off')\n",
    "    \n",
    "    plt.tight_layout()\n",
    "    plt.show()\n",
    "\n",
    "# Call visualization function\n",
    "viz_predictions(model, val_dataset)"
   ]
  },
  {
   "cell_type": "code",
   "execution_count": 9,
   "id": "7bed9f71",
   "metadata": {},
   "outputs": [
    {
     "name": "stdout",
     "output_type": "stream",
     "text": [
      "Epoch 1\n",
      "--------------------\n",
      "Loss: 2.298285 [   64 / 48000]\n",
      "Loss: 2.291156 [ 6464 / 48000]\n",
      "Loss: 2.280152 [12864 / 48000]\n",
      "Loss: 2.273805 [19264 / 48000]\n",
      "Loss: 2.251464 [25664 / 48000]\n",
      "Loss: 2.238404 [32064 / 48000]\n",
      "Loss: 2.213149 [38464 / 48000]\n",
      "Loss: 2.160478 [44864 / 48000]\n",
      "Test Error: \n",
      " Accuracy: 65.2%, Avg loss: 2.130055 \n",
      "\n",
      "Epoch 2\n",
      "--------------------\n",
      "Loss: 2.112439 [   64 / 48000]\n",
      "Loss: 2.060161 [ 6464 / 48000]\n",
      "Loss: 1.874045 [12864 / 48000]\n",
      "Loss: 1.697750 [19264 / 48000]\n",
      "Loss: 1.459843 [25664 / 48000]\n",
      "Loss: 1.300261 [32064 / 48000]\n",
      "Loss: 1.138648 [38464 / 48000]\n",
      "Loss: 0.918905 [44864 / 48000]\n",
      "Test Error: \n",
      " Accuracy: 78.1%, Avg loss: 0.866234 \n",
      "\n",
      "Epoch 3\n",
      "--------------------\n",
      "Loss: 0.949888 [   64 / 48000]\n",
      "Loss: 0.980715 [ 6464 / 48000]\n",
      "Loss: 0.740353 [12864 / 48000]\n",
      "Loss: 0.695234 [19264 / 48000]\n",
      "Loss: 0.625842 [25664 / 48000]\n",
      "Loss: 0.632647 [32064 / 48000]\n",
      "Loss: 0.574533 [38464 / 48000]\n",
      "Loss: 0.439857 [44864 / 48000]\n",
      "Test Error: \n",
      " Accuracy: 86.4%, Avg loss: 0.498256 \n",
      "\n",
      "Epoch 4\n",
      "--------------------\n",
      "Loss: 0.637333 [   64 / 48000]\n",
      "Loss: 0.686502 [ 6464 / 48000]\n",
      "Loss: 0.523844 [12864 / 48000]\n",
      "Loss: 0.477648 [19264 / 48000]\n",
      "Loss: 0.418675 [25664 / 48000]\n",
      "Loss: 0.472752 [32064 / 48000]\n",
      "Loss: 0.467889 [38464 / 48000]\n",
      "Loss: 0.285232 [44864 / 48000]\n",
      "Test Error: \n",
      " Accuracy: 88.9%, Avg loss: 0.395079 \n",
      "\n",
      "Epoch 5\n",
      "--------------------\n",
      "Loss: 0.542924 [   64 / 48000]\n",
      "Loss: 0.595229 [ 6464 / 48000]\n",
      "Loss: 0.440077 [12864 / 48000]\n",
      "Loss: 0.381144 [19264 / 48000]\n",
      "Loss: 0.352257 [25664 / 48000]\n",
      "Loss: 0.424514 [32064 / 48000]\n",
      "Loss: 0.438836 [38464 / 48000]\n",
      "Loss: 0.226051 [44864 / 48000]\n",
      "Test Error: \n",
      " Accuracy: 90.2%, Avg loss: 0.349646 \n",
      "\n",
      "Epoch 6\n",
      "--------------------\n",
      "Loss: 0.509897 [   64 / 48000]\n",
      "Loss: 0.549596 [ 6464 / 48000]\n",
      "Loss: 0.415458 [12864 / 48000]\n",
      "Loss: 0.328154 [19264 / 48000]\n",
      "Loss: 0.325293 [25664 / 48000]\n",
      "Loss: 0.402200 [32064 / 48000]\n",
      "Loss: 0.421091 [38464 / 48000]\n",
      "Loss: 0.197961 [44864 / 48000]\n",
      "Test Error: \n",
      " Accuracy: 90.9%, Avg loss: 0.321906 \n",
      "\n",
      "Epoch 7\n",
      "--------------------\n",
      "Loss: 0.489227 [   64 / 48000]\n",
      "Loss: 0.506736 [ 6464 / 48000]\n",
      "Loss: 0.403990 [12864 / 48000]\n",
      "Loss: 0.293729 [19264 / 48000]\n",
      "Loss: 0.308121 [25664 / 48000]\n",
      "Loss: 0.383681 [32064 / 48000]\n",
      "Loss: 0.405292 [38464 / 48000]\n",
      "Loss: 0.181964 [44864 / 48000]\n",
      "Test Error: \n",
      " Accuracy: 91.6%, Avg loss: 0.301006 \n",
      "\n",
      "Epoch 8\n",
      "--------------------\n",
      "Loss: 0.470815 [   64 / 48000]\n",
      "Loss: 0.463580 [ 6464 / 48000]\n",
      "Loss: 0.394118 [12864 / 48000]\n",
      "Loss: 0.266418 [19264 / 48000]\n",
      "Loss: 0.293945 [25664 / 48000]\n",
      "Loss: 0.366092 [32064 / 48000]\n",
      "Loss: 0.390100 [38464 / 48000]\n",
      "Loss: 0.172591 [44864 / 48000]\n",
      "Test Error: \n",
      " Accuracy: 92.0%, Avg loss: 0.283567 \n",
      "\n",
      "Epoch 9\n",
      "--------------------\n",
      "Loss: 0.452105 [   64 / 48000]\n",
      "Loss: 0.422656 [ 6464 / 48000]\n",
      "Loss: 0.383661 [12864 / 48000]\n",
      "Loss: 0.241947 [19264 / 48000]\n",
      "Loss: 0.281617 [25664 / 48000]\n",
      "Loss: 0.348261 [32064 / 48000]\n",
      "Loss: 0.375163 [38464 / 48000]\n",
      "Loss: 0.166852 [44864 / 48000]\n",
      "Test Error: \n",
      " Accuracy: 92.4%, Avg loss: 0.268253 \n",
      "\n",
      "Epoch 10\n",
      "--------------------\n",
      "Loss: 0.433420 [   64 / 48000]\n",
      "Loss: 0.384245 [ 6464 / 48000]\n",
      "Loss: 0.372720 [12864 / 48000]\n",
      "Loss: 0.219185 [19264 / 48000]\n",
      "Loss: 0.269697 [25664 / 48000]\n",
      "Loss: 0.331244 [32064 / 48000]\n",
      "Loss: 0.360351 [38464 / 48000]\n",
      "Loss: 0.163872 [44864 / 48000]\n",
      "Test Error: \n",
      " Accuracy: 92.8%, Avg loss: 0.254420 \n",
      "\n",
      "Done\n"
     ]
    }
   ],
   "source": [
    "epochs = 10\n",
    "for t in range(epochs):\n",
    "    print(f\"Epoch {t+1}\\n--------------------\")\n",
    "    train(train_dataloader, model, loss_fn, optimizer)\n",
    "    test(val_dataloader, model, loss_fn)\n",
    "print(\"Done\")"
   ]
  },
  {
   "cell_type": "code",
   "execution_count": 10,
   "id": "c5db7922",
   "metadata": {},
   "outputs": [
    {
     "name": "stdout",
     "output_type": "stream",
     "text": [
      "Test Error: \n",
      " Accuracy: 92.8%, Avg loss: 0.248851 \n",
      "\n"
     ]
    }
   ],
   "source": [
    "test(test_dataloader, model, loss_fn)"
   ]
  },
  {
   "cell_type": "markdown",
   "id": "789bbed8",
   "metadata": {},
   "source": [
    "# Prediction after training"
   ]
  },
  {
   "cell_type": "code",
   "execution_count": null,
   "id": "ff02a6de",
   "metadata": {},
   "outputs": [
    {
     "data": {
      "image/png": "[encoded data removed]",
      "text/plain": [
       "<Figure size 640x480 with 5 Axes>"
      ]
     },
     "metadata": {},
     "output_type": "display_data"
    }
   ],
   "source": [
    "import matplotlib.pyplot as plt\n",
    "\n",
    "def viz_predictions(model, dataset, num_samples=5):\n",
    "    fig, axes = plt.subplots(1, num_samples)\n",
    "    model.eval()\n",
    "    with torch.no_grad():\n",
    "        for i in range(num_samples):\n",
    "            img, label = dataset[i]\n",
    "            X = img.unsqueeze(0).to(device)\n",
    "            pred = model(X)\n",
    "            predicted = pred.argmax(1)\n",
    "            axes[i].imshow(img.squeeze(), cmap='gray')\n",
    "            axes[i].set_title(f'Pred: {predicted.item()}\\nTrue: {label}')\n",
    "            axes[i].axis('off')\n",
    "    \n",
    "    plt.tight_layout()\n",
    "    plt.show()\n",
    "\n",
    "# Call visualization function\n",
    "viz_predictions(model, val_dataset)"
   ]
  }
 ],
 "metadata": {
  "kernelspec": {
   "display_name": "Python 3",
   "language": "python",
   "name": "python3"
  },
  "language_info": {
   "codemirror_mode": {
    "name": "ipython",
    "version": 3
   },
   "file_extension": ".py",
   "mimetype": "text/x-python",
   "name": "python",
   "nbconvert_exporter": "python",
   "pygments_lexer": "ipython3",
   "version": "3.12.10"
  }
 },
 "nbformat": 4,
 "nbformat_minor": 5
}
