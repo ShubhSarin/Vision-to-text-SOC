{
 "cells": [
  {
   "cell_type": "code",
   "execution_count": 1,
   "id": "7e2df608",
   "metadata": {},
   "outputs": [],
   "source": [
    "import torch\n",
    "from torchvision import datasets, transforms\n",
    "import torchvision.models as models\n",
    "import torch.nn as nn\n",
    "import torch.nn.functional as F\n",
    "import matplotlib.pyplot as plt\n",
    "import torch.optim as optim\n",
    "from torch.utils.data import DataLoader, random_split\n",
    "import kagglehub"
   ]
  },
  {
   "cell_type": "code",
   "execution_count": 2,
   "id": "71e0e268",
   "metadata": {},
   "outputs": [
    {
     "name": "stdout",
     "output_type": "stream",
     "text": [
      "Path to dataset files: C:\\Users\\Shubh Sareen\\.cache\\kagglehub\\datasets\\pankrzysiu\\cifar10-python\\versions\\1\n"
     ]
    }
   ],
   "source": [
    "import kagglehub\n",
    "\n",
    "# Download latest version\n",
    "path = kagglehub.dataset_download(\"pankrzysiu/cifar10-python\")\n",
    "print(\"Path to dataset files:\", path)"
   ]
  },
  {
   "cell_type": "markdown",
   "id": "eefca175",
   "metadata": {},
   "source": [
    "### Not separating the dataset because it is already separated"
   ]
  },
  {
   "cell_type": "code",
   "execution_count": 3,
   "id": "7c652a2b",
   "metadata": {},
   "outputs": [],
   "source": [
    "transform = transforms.Compose([\n",
    "    transforms.RandomHorizontalFlip(),\n",
    "    transforms.ToTensor(),\n",
    "])\n",
    "batch_size = 64\n",
    "train_dataset = datasets.CIFAR10(root=path, train=True, download=False, transform=transform)\n",
    "test_dataset = datasets.CIFAR10(root=path, train=False, download=False, transform=transform)\n",
    "train_loader = DataLoader(train_dataset, batch_size, shuffle=True)\n",
    "test_loader = DataLoader(test_dataset, batch_size, shuffle=False)\n"
   ]
  },
  {
   "cell_type": "code",
   "execution_count": 4,
   "id": "5687fd13",
   "metadata": {},
   "outputs": [
    {
     "name": "stderr",
     "output_type": "stream",
     "text": [
      "C:\\Users\\Shubh Sareen\\AppData\\Local\\Packages\\PythonSoftwareFoundation.Python.3.12_qbz5n2kfra8p0\\LocalCache\\local-packages\\Python312\\site-packages\\torchvision\\models\\_utils.py:208: UserWarning: The parameter 'pretrained' is deprecated since 0.13 and may be removed in the future, please use 'weights' instead.\n",
      "  warnings.warn(\n",
      "C:\\Users\\Shubh Sareen\\AppData\\Local\\Packages\\PythonSoftwareFoundation.Python.3.12_qbz5n2kfra8p0\\LocalCache\\local-packages\\Python312\\site-packages\\torchvision\\models\\_utils.py:223: UserWarning: Arguments other than a weight enum or `None` for 'weights' are deprecated since 0.13 and may be removed in the future. The current behavior is equivalent to passing `weights=ResNet50_Weights.IMAGENET1K_V1`. You can also use `weights=ResNet50_Weights.DEFAULT` to get the most up-to-date weights.\n",
      "  warnings.warn(msg)\n"
     ]
    }
   ],
   "source": [
    "class TransferLearning(nn.Module):\n",
    "    def __init__(self, classes = 10):\n",
    "        super().__init__()\n",
    "        self.conv1 = nn.Conv2d(3, 16, kernel_size=5, padding=2)\n",
    "        self.conv2 = nn.Conv2d(16, 3, kernel_size=3, padding=1)\n",
    "        self.resnet = models.resnet50(pretrained=True)\n",
    "        self.resnet.fc = nn.Identity()\n",
    "        self.fc1 = nn.Linear(2048, 256)\n",
    "        self.dropout = nn.Dropout(0.3)\n",
    "        self.fc2 = nn.Linear(256, 32)\n",
    "        self.fc3 = nn.Linear(32, classes)\n",
    "        self.relu = nn.ReLU()\n",
    "    def forward(self, x):\n",
    "        x = self.relu(self.conv1(x))\n",
    "        x = self.relu(self.conv2(x))\n",
    "        x = self.resnet(x)\n",
    "        x = self.fc1(x)\n",
    "        x = self.dropout(x)\n",
    "        x = self.fc2(x)\n",
    "        x = self.relu(x)\n",
    "        x = self.fc3(x)\n",
    "        return x\n",
    "device = torch.device(\"cuda\" if torch.cuda.is_available() else \"cpu\")\n",
    "model = TransferLearning().to(device)"
   ]
  },
  {
   "cell_type": "code",
   "execution_count": 5,
   "id": "55ddb6c1",
   "metadata": {},
   "outputs": [],
   "source": [
    "loss_fn = nn.CrossEntropyLoss()\n",
    "optimizer = optim.Adam(model.parameters(), lr=1e-5)"
   ]
  },
  {
   "cell_type": "code",
   "execution_count": 6,
   "id": "e5069bc4",
   "metadata": {},
   "outputs": [],
   "source": [
    "def train(dataloader, model, loss_fn, optimizer):\n",
    "  size = len(dataloader.dataset)\n",
    "  model.train()\n",
    "  for batch, (X, y) in enumerate(dataloader):\n",
    "    X, y = X.to(device), y.to(device)\n",
    "\n",
    "    pred = model(X)\n",
    "    loss = loss_fn(pred, y)\n",
    "\n",
    "    loss.backward()\n",
    "    optimizer.step()\n",
    "    optimizer.zero_grad()\n",
    "    if batch % 100 == 0:\n",
    "            loss, current = loss.item(), (batch+1)*len(X)\n",
    "            print(f\"Loss: {loss:>7f} [{current:>5d} / {size:>5d}]\")"
   ]
  },
  {
   "cell_type": "code",
   "execution_count": 7,
   "id": "1f949d5f",
   "metadata": {},
   "outputs": [],
   "source": [
    "def test(dataloader, model, loss_fn):\n",
    "  size = len(dataloader.dataset)\n",
    "  num_batches = len(dataloader)\n",
    "  model.eval()\n",
    "  test_loss, correct = 0, 0\n",
    "  with torch.no_grad():\n",
    "    for X, y in dataloader:\n",
    "      X, y = X.to(device), y.to(device)\n",
    "      pred = model(X)\n",
    "      test_loss += loss_fn(pred, y).item()\n",
    "      correct += (pred.argmax(1) == y).type(torch.float).sum().item()\n",
    "    test_loss /= num_batches\n",
    "    correct /= size\n",
    "    print(f\"Test Error: \\n Accuracy: {(100*correct):>0.1f}%, Avg Loss: {test_loss:>8f} \\n\")"
   ]
  },
  {
   "cell_type": "markdown",
   "id": "0201505c",
   "metadata": {},
   "source": [
    "# Before Training"
   ]
  },
  {
   "cell_type": "code",
   "execution_count": 8,
   "id": "3e201474",
   "metadata": {},
   "outputs": [
    {
     "data": {
      "image/png": "[encoded data removed]",
      "text/plain": [
       "<Figure size 640x480 with 5 Axes>"
      ]
     },
     "metadata": {},
     "output_type": "display_data"
    }
   ],
   "source": [
    "def viz_predictions(model, dataset, num_samples=5):\n",
    "    fig, axes = plt.subplots(1, num_samples)\n",
    "    model.eval()\n",
    "    with torch.no_grad():\n",
    "        for i in range(num_samples):\n",
    "            img, label = dataset[i]\n",
    "            X = img.unsqueeze(0).to(device)\n",
    "            pred = model(X)\n",
    "            predicted = pred.argmax(1)\n",
    "            axes[i].imshow(img.permute(1, 2, 0))\n",
    "            axes[i].set_title(f'Pred: {predicted.item()}\\nTrue: {label}')\n",
    "            axes[i].axis('off')\n",
    "    \n",
    "    plt.tight_layout()\n",
    "    plt.show()\n",
    "\n",
    "# Call visualization function\n",
    "viz_predictions(model, test_dataset)"
   ]
  },
  {
   "cell_type": "code",
   "execution_count": 9,
   "id": "bf9e5794",
   "metadata": {},
   "outputs": [
    {
     "name": "stdout",
     "output_type": "stream",
     "text": [
      "Epoch 1\n",
      "--------------------\n",
      "Loss: 2.301503 [   64 / 50000]\n",
      "Loss: 2.248595 [ 6464 / 50000]\n",
      "Loss: 2.193324 [12864 / 50000]\n",
      "Loss: 2.149947 [19264 / 50000]\n",
      "Loss: 1.975105 [25664 / 50000]\n",
      "Loss: 2.060717 [32064 / 50000]\n",
      "Loss: 1.745930 [38464 / 50000]\n",
      "Loss: 1.795523 [44864 / 50000]\n",
      "Test Error: \n",
      " Accuracy: 42.3%, Avg Loss: 1.671980 \n",
      "\n",
      "Epoch 2\n",
      "--------------------\n",
      "Loss: 1.824019 [   64 / 50000]\n",
      "Loss: 1.886992 [ 6464 / 50000]\n",
      "Loss: 1.469941 [12864 / 50000]\n",
      "Loss: 1.609966 [19264 / 50000]\n",
      "Loss: 1.383577 [25664 / 50000]\n",
      "Loss: 1.421094 [32064 / 50000]\n",
      "Loss: 1.475987 [38464 / 50000]\n",
      "Loss: 1.328264 [44864 / 50000]\n",
      "Test Error: \n",
      " Accuracy: 56.0%, Avg Loss: 1.289206 \n",
      "\n",
      "Epoch 3\n",
      "--------------------\n",
      "Loss: 1.165814 [   64 / 50000]\n",
      "Loss: 1.281787 [ 6464 / 50000]\n",
      "Loss: 1.331185 [12864 / 50000]\n",
      "Loss: 1.145632 [19264 / 50000]\n",
      "Loss: 1.286282 [25664 / 50000]\n",
      "Loss: 1.077716 [32064 / 50000]\n",
      "Loss: 1.058732 [38464 / 50000]\n",
      "Loss: 1.429871 [44864 / 50000]\n",
      "Test Error: \n",
      " Accuracy: 61.5%, Avg Loss: 1.133098 \n",
      "\n",
      "Epoch 4\n",
      "--------------------\n",
      "Loss: 1.334998 [   64 / 50000]\n",
      "Loss: 1.022178 [ 6464 / 50000]\n",
      "Loss: 1.274673 [12864 / 50000]\n",
      "Loss: 1.092508 [19264 / 50000]\n",
      "Loss: 1.060854 [25664 / 50000]\n",
      "Loss: 1.043023 [32064 / 50000]\n",
      "Loss: 0.980316 [38464 / 50000]\n",
      "Loss: 1.070350 [44864 / 50000]\n",
      "Test Error: \n",
      " Accuracy: 64.1%, Avg Loss: 1.044471 \n",
      "\n",
      "Epoch 5\n",
      "--------------------\n",
      "Loss: 1.107773 [   64 / 50000]\n",
      "Loss: 1.110004 [ 6464 / 50000]\n",
      "Loss: 0.836877 [12864 / 50000]\n",
      "Loss: 0.920719 [19264 / 50000]\n",
      "Loss: 0.992200 [25664 / 50000]\n",
      "Loss: 0.839376 [32064 / 50000]\n",
      "Loss: 1.166410 [38464 / 50000]\n",
      "Loss: 0.970414 [44864 / 50000]\n",
      "Test Error: \n",
      " Accuracy: 65.8%, Avg Loss: 0.993296 \n",
      "\n",
      "Epoch 6\n",
      "--------------------\n",
      "Loss: 0.835093 [   64 / 50000]\n",
      "Loss: 0.935315 [ 6464 / 50000]\n",
      "Loss: 0.827733 [12864 / 50000]\n",
      "Loss: 0.845456 [19264 / 50000]\n",
      "Loss: 0.636808 [25664 / 50000]\n",
      "Loss: 0.908320 [32064 / 50000]\n",
      "Loss: 1.186495 [38464 / 50000]\n",
      "Loss: 0.873071 [44864 / 50000]\n",
      "Test Error: \n",
      " Accuracy: 67.1%, Avg Loss: 0.959782 \n",
      "\n",
      "Epoch 7\n",
      "--------------------\n",
      "Loss: 0.688092 [   64 / 50000]\n",
      "Loss: 0.947379 [ 6464 / 50000]\n",
      "Loss: 0.990262 [12864 / 50000]\n",
      "Loss: 1.066707 [19264 / 50000]\n",
      "Loss: 0.711712 [25664 / 50000]\n",
      "Loss: 0.699213 [32064 / 50000]\n",
      "Loss: 0.694559 [38464 / 50000]\n",
      "Loss: 0.775290 [44864 / 50000]\n",
      "Test Error: \n",
      " Accuracy: 68.3%, Avg Loss: 0.939250 \n",
      "\n",
      "Epoch 8\n",
      "--------------------\n",
      "Loss: 0.888996 [   64 / 50000]\n",
      "Loss: 0.614766 [ 6464 / 50000]\n",
      "Loss: 0.897048 [12864 / 50000]\n",
      "Loss: 0.848427 [19264 / 50000]\n",
      "Loss: 0.744420 [25664 / 50000]\n",
      "Loss: 0.933413 [32064 / 50000]\n",
      "Loss: 0.940196 [38464 / 50000]\n",
      "Loss: 0.687368 [44864 / 50000]\n",
      "Test Error: \n",
      " Accuracy: 68.6%, Avg Loss: 0.934610 \n",
      "\n",
      "Epoch 9\n",
      "--------------------\n",
      "Loss: 0.696307 [   64 / 50000]\n",
      "Loss: 0.707731 [ 6464 / 50000]\n",
      "Loss: 0.628254 [12864 / 50000]\n",
      "Loss: 0.563623 [19264 / 50000]\n",
      "Loss: 0.867883 [25664 / 50000]\n",
      "Loss: 0.815478 [32064 / 50000]\n",
      "Loss: 0.905344 [38464 / 50000]\n",
      "Loss: 0.716559 [44864 / 50000]\n",
      "Test Error: \n",
      " Accuracy: 69.0%, Avg Loss: 0.938283 \n",
      "\n",
      "Epoch 10\n",
      "--------------------\n",
      "Loss: 0.632861 [   64 / 50000]\n",
      "Loss: 0.382375 [ 6464 / 50000]\n",
      "Loss: 0.460095 [12864 / 50000]\n",
      "Loss: 0.668378 [19264 / 50000]\n",
      "Loss: 0.511803 [25664 / 50000]\n",
      "Loss: 0.540207 [32064 / 50000]\n",
      "Loss: 0.560477 [38464 / 50000]\n",
      "Loss: 0.630395 [44864 / 50000]\n",
      "Test Error: \n",
      " Accuracy: 69.0%, Avg Loss: 0.947784 \n",
      "\n",
      "Done\n"
     ]
    }
   ],
   "source": [
    "epochs = 10\n",
    "for t in range(epochs):\n",
    "    print(f\"Epoch {t+1}\\n--------------------\")\n",
    "    train(train_loader, model, loss_fn, optimizer)\n",
    "    test(test_loader, model, loss_fn)\n",
    "print(\"Done\")"
   ]
  },
  {
   "cell_type": "markdown",
   "id": "0e28a5c4",
   "metadata": {},
   "source": [
    "# After Training"
   ]
  },
  {
   "cell_type": "code",
   "execution_count": 18,
   "id": "80cb707d",
   "metadata": {},
   "outputs": [
    {
     "data": {
      "image/png": "[encoded data removed]",
      "text/plain": [
       "<Figure size 640x480 with 5 Axes>"
      ]
     },
     "metadata": {},
     "output_type": "display_data"
    }
   ],
   "source": [
    "def viz_predictions(model, dataset, num_samples=5):\n",
    "    fig, axes = plt.subplots(1, num_samples)\n",
    "    model.eval()\n",
    "    with torch.no_grad():\n",
    "        for i in range(num_samples):\n",
    "            img, label = dataset[i]\n",
    "            X = img.unsqueeze(0).to(device)\n",
    "            pred = model(X)\n",
    "            predicted = pred.argmax(1)\n",
    "            axes[i].imshow(img.permute(1, 2, 0))\n",
    "            axes[i].set_title(f'Pred: {predicted.item()}\\nTrue: {label}')\n",
    "            axes[i].axis('off')\n",
    "    \n",
    "    plt.tight_layout()\n",
    "    plt.show()\n",
    "\n",
    "# Call visualization function\n",
    "viz_predictions(model, test_dataset)"
   ]
  }
 ],
 "metadata": {
  "kernelspec": {
   "display_name": "Python 3",
   "language": "python",
   "name": "python3"
  },
  "language_info": {
   "codemirror_mode": {
    "name": "ipython",
    "version": 3
   },
   "file_extension": ".py",
   "mimetype": "text/x-python",
   "name": "python",
   "nbconvert_exporter": "python",
   "pygments_lexer": "ipython3",
   "version": "3.12.10"
  }
 },
 "nbformat": 4,
 "nbformat_minor": 5
}
